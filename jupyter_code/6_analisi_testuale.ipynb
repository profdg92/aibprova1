{
 "cells": [
  {
   "cell_type": "code",
   "execution_count": null,
   "metadata": {},
   "outputs": [],
   "source": [
    "# Che cos'è un dizionario\n",
    "# Keys and values\n",
    "# Contare gli elementi usando un dizionario\n",
    "# zip di due liste \n",
    "# nested dictionaries\n",
    "# Giocare un pò con la lista... strip, replace ecc.\n",
    "\n",
    "# Cambiare path!\n",
    "with open('C:.../Divina Commedia.txt', \n",
    "    encoding='utf-8') as f:\n",
    "    lines = f.readlines()\n",
    "\n",
    "# print(*lines, sep='\\n')\n",
    "\n",
    "parole_commedia = []\n",
    "for riga in lines:\n",
    "    parole_commedia = parole_commedia + riga.split(' ')\n",
    "\n",
    "# print(parole_commedia)\n",
    "\n",
    "parole_pulite = []\n",
    "for p in parole_commedia:\n",
    "    pp = p.replace('\\n','')\n",
    "    parole_pulite.append(pp)\n",
    "\n",
    "# print(parole_pulite)\n",
    "\n",
    "from collections import Counter\n",
    "conto_commedia = Counter(parole_pulite)\n",
    "\n",
    "print(conto_commedia)\n",
    "\n",
    "\n",
    "# A questo punto, come leggere i dati tabellari con pandas\n",
    "# tipo iris"
   ]
  }
 ],
 "metadata": {
  "kernelspec": {
   "display_name": "Python 3",
   "language": "python",
   "name": "python3"
  },
  "language_info": {
   "codemirror_mode": {
    "name": "ipython",
    "version": 3
   },
   "file_extension": ".py",
   "mimetype": "text/x-python",
   "name": "python",
   "nbconvert_exporter": "python",
   "pygments_lexer": "ipython3",
   "version": "3.8.3"
  }
 },
 "nbformat": 4,
 "nbformat_minor": 4
}
