{
 "cells": [
  {
   "cell_type": "code",
   "execution_count": 2,
   "metadata": {},
   "outputs": [],
   "source": [
    "# Cose che spero vedremo oggi\n",
    "\n",
    "# - Concetto di ricorsione\n",
    "# - Un problema del PE \n",
    "# - Tipologie di errori\n",
    "# - Qualcosina di sicurezza informatica\n",
    "\n",
    "\n",
    "# Osservo che n! = n * (n-1)!\n",
    "# es. 6! = 6 * 5!\n",
    "\n",
    "def factorial(n: int) -> int:\n",
    "    fattoriale = 1\n",
    "\n",
    "    for i in range(1, n + 1):\n",
    "        fattoriale = fattoriale * i\n",
    "    \n",
    "    return fattoriale\n"
   ]
  },
  {
   "cell_type": "code",
   "execution_count": 9,
   "metadata": {},
   "outputs": [],
   "source": [
    "def fattoriale_con_ricorsione(n: int)-> int:\n",
    "    return 1 if n == 1 else n * fattoriale_con_ricorsione(n - 1)\n"
   ]
  },
  {
   "cell_type": "code",
   "execution_count": 6,
   "metadata": {},
   "outputs": [
    {
     "data": {
      "text/plain": [
       "720"
      ]
     },
     "execution_count": 6,
     "metadata": {},
     "output_type": "execute_result"
    }
   ],
   "source": [
    "factorial(6)"
   ]
  },
  {
   "cell_type": "code",
   "execution_count": 11,
   "metadata": {},
   "outputs": [
    {
     "data": {
      "text/plain": [
       "120"
      ]
     },
     "execution_count": 11,
     "metadata": {},
     "output_type": "execute_result"
    }
   ],
   "source": [
    "fattoriale_con_ricorsione(5)"
   ]
  },
  {
   "cell_type": "code",
   "execution_count": 14,
   "metadata": {},
   "outputs": [],
   "source": [
    "# 1 ...1 \n",
    "# 2... 1\n",
    "# 3 ...2\n",
    "# 4... 3\n",
    "# Fn = Fn-1 + Fn-2\n",
    "# es. 1, 1, 2, 3, 5, 8, 13\n",
    "def fib_rec(n: int)-> int:    \n",
    "    return 1 if n < 1 else fib_rec(n-1) + fib_rec(n-2)\n",
    "\n",
    "\n",
    "# fib_rec(n=5) --- fib_rec(4) + fib_rec(3)\n",
    "\n",
    "# # fib_rec(4) --- fib_rec(3) + fib_rec(2)\n",
    "\n",
    "# # # fib_rec(3) --- fib_rec(2) + fib_rec(1)\n",
    "\n",
    "# # # fib_rec(2) --- fib_rec(1) + fib_rec(0)\n",
    "# fib_rec(1) = 1\n",
    "# fib_rec(0) = 1\n",
    "\n",
    "# --------------------------\n",
    "# # fib_rec(3) --- fib_rec(2) + fib_rec(1)\n",
    "\n"
   ]
  },
  {
   "cell_type": "code",
   "execution_count": 17,
   "metadata": {},
   "outputs": [
    {
     "name": "stdout",
     "output_type": "stream",
     "text": [
      "5\n",
      "8\n",
      "13\n"
     ]
    },
    {
     "data": {
      "text/plain": [
       "21"
      ]
     },
     "execution_count": 17,
     "metadata": {},
     "output_type": "execute_result"
    }
   ],
   "source": [
    "print(fib_rec(3))\n",
    "print(fib_rec(4))\n",
    "print(fib_rec(5))\n",
    "fib_rec(6)"
   ]
  },
  {
   "cell_type": "code",
   "execution_count": 24,
   "metadata": {},
   "outputs": [
    {
     "data": {
      "text/plain": [
       "0.8157181739807129"
      ]
     },
     "execution_count": 24,
     "metadata": {},
     "output_type": "execute_result"
    }
   ],
   "source": [
    "import time \n",
    "start = time.time()\n",
    "fib_rec(30)\n",
    "time.time() - start"
   ]
  },
  {
   "cell_type": "code",
   "execution_count": 25,
   "metadata": {},
   "outputs": [],
   "source": [
    "from functools import lru_cache\n",
    "\n",
    "@lru_cache\n",
    "def fibonacci(n):\n",
    "    if n in {0, 1}:\n",
    "        return n\n",
    "    return fibonacci(n-1) + fibonacci(n-2)"
   ]
  },
  {
   "cell_type": "code",
   "execution_count": 27,
   "metadata": {},
   "outputs": [
    {
     "data": {
      "text/plain": [
       "0.0009999275207519531"
      ]
     },
     "execution_count": 27,
     "metadata": {},
     "output_type": "execute_result"
    }
   ],
   "source": [
    "start = time.time()\n",
    "fibonacci(100)\n",
    "time.time() - start"
   ]
  },
  {
   "cell_type": "code",
   "execution_count": null,
   "metadata": {},
   "outputs": [],
   "source": []
  },
  {
   "cell_type": "code",
   "execution_count": null,
   "metadata": {},
   "outputs": [],
   "source": []
  },
  {
   "cell_type": "code",
   "execution_count": null,
   "metadata": {},
   "outputs": [],
   "source": []
  },
  {
   "cell_type": "code",
   "execution_count": null,
   "metadata": {},
   "outputs": [],
   "source": []
  },
  {
   "cell_type": "code",
   "execution_count": null,
   "metadata": {},
   "outputs": [],
   "source": []
  },
  {
   "cell_type": "code",
   "execution_count": null,
   "metadata": {},
   "outputs": [],
   "source": [
    "# n → n/2 (n is even) Riduce...\n",
    "# n → 3n + 1 (n is odd) Aumenta\n",
    "# A 1 fermati\n",
    "\n",
    "# Collatz: 10 --- 5 --- 16 --- 8 --- 4 --- 2 --- 1\n",
    "# 13 --- 40 --- 20 --- 10 --- 5 --- 16 --- 8 --- 4 --- 2 --- 1\n",
    "\n"
   ]
  },
  {
   "cell_type": "code",
   "execution_count": 47,
   "metadata": {},
   "outputs": [],
   "source": [
    "def Collatz(n: int, sequenza=[]) -> list:\n",
    "    \n",
    "    sequenza.append(int(n))\n",
    "    \n",
    "    if n == 1:\n",
    "        return sequenza\n",
    "    \n",
    "    elif n % 2 == 0:\n",
    "        return Collatz(n / 2, sequenza=sequenza)\n",
    "    \n",
    "    else:\n",
    "        return Collatz(n * 3 + 1, sequenza=sequenza)\n",
    "        "
   ]
  },
  {
   "cell_type": "code",
   "execution_count": 72,
   "metadata": {},
   "outputs": [
    {
     "data": {
      "text/plain": [
       "17"
      ]
     },
     "execution_count": 72,
     "metadata": {},
     "output_type": "execute_result"
    }
   ],
   "source": [
    "len(Collatz(7, sequenza=[]))"
   ]
  },
  {
   "cell_type": "code",
   "execution_count": 73,
   "metadata": {},
   "outputs": [
    {
     "data": {
      "text/plain": [
       "[7, 22, 11, 34, 17, 52, 26, 13, 40, 20, 10, 5, 16, 8, 4, 2, 1]"
      ]
     },
     "execution_count": 73,
     "metadata": {},
     "output_type": "execute_result"
    }
   ],
   "source": [
    "Collatz(7, sequenza=[])"
   ]
  },
  {
   "cell_type": "code",
   "execution_count": 71,
   "metadata": {},
   "outputs": [
    {
     "data": {
      "text/plain": [
       "837799"
      ]
     },
     "execution_count": 71,
     "metadata": {},
     "output_type": "execute_result"
    }
   ],
   "source": [
    "\n",
    "lunghezza_massima = 1\n",
    "numero_massimo = 1\n",
    "\n",
    "for n in range(2, 1_000_000):\n",
    "    lunghezza_sequenza = len(Collatz(n, sequenza=[]))\n",
    "    \n",
    "    if lunghezza_sequenza > lunghezza_massima: \n",
    "        lunghezza_massima = lunghezza_sequenza\n",
    "        numero_massimo = n\n",
    "\n",
    "numero_massimo"
   ]
  },
  {
   "cell_type": "code",
   "execution_count": null,
   "metadata": {},
   "outputs": [],
   "source": []
  }
 ],
 "metadata": {
  "kernelspec": {
   "display_name": "Python 3",
   "language": "python",
   "name": "python3"
  },
  "language_info": {
   "codemirror_mode": {
    "name": "ipython",
    "version": 3
   },
   "file_extension": ".py",
   "mimetype": "text/x-python",
   "name": "python",
   "nbconvert_exporter": "python",
   "pygments_lexer": "ipython3",
   "version": "3.8.3"
  }
 },
 "nbformat": 4,
 "nbformat_minor": 4
}
