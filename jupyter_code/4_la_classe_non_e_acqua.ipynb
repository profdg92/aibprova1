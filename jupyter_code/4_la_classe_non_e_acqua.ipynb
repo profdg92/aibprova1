{
 "cells": [
  {
   "cell_type": "code",
   "execution_count": 5,
   "metadata": {},
   "outputs": [],
   "source": [
    "# Provare a scrivere una funzione che dica se un numero è primo\n",
    "def is_prime(n: int) -> bool:\n",
    "    \"\"\"Dato un numero la mia funzione mi dice se è vero o falso\n",
    "    che questo numero è primo\"\"\"\n",
    "        \n",
    "    # Il mio numero deve essere diverso da 1\n",
    "    for divisore in range(2, n):\n",
    "        if n % divisore == 0:\n",
    "            return False\n",
    "    \n",
    "    if n == 1:\n",
    "        return False\n",
    "    else:\n",
    "        return True\n"
   ]
  },
  {
   "cell_type": "code",
   "execution_count": 1,
   "metadata": {},
   "outputs": [],
   "source": [
    "# Funzione che restituisce la lista dei divisori di un numero\n",
    "def restituire_divisori(n: int) -> list:\n",
    "    \"\"\"\n",
    "    Dato un numero restituisce i divisori\n",
    "    \"\"\"\n",
    "    \n",
    "    lista_divisori = []\n",
    "    \n",
    "    # SPEED 1: invece di n + 1 mi fermo alla radice \n",
    "    # ES. n = 36... \n",
    "    # se 1 è divisore, lo è anche 36\n",
    "    # se 2 è divisore, lo è anche 18\n",
    "    # se 3 è divisore, lo è anche 12\n",
    "    # ...\n",
    "    # ES 48 verifico i numeri fino a 7...\n",
    "    # import math ... math.ceil(48**0.5) = 7\n",
    "    \n",
    "    for div in range(1, n + 1):  # Se n= 10, 1 ,2,3 \n",
    "        if n % div == 0 :\n",
    "            lista_divisori.append(div)\n",
    "    \n",
    "    return lista_divisori\n",
    "    "
   ]
  },
  {
   "cell_type": "code",
   "execution_count": 4,
   "metadata": {},
   "outputs": [
    {
     "data": {
      "text/plain": [
       "[1, 2, 3, 6]"
      ]
     },
     "execution_count": 4,
     "metadata": {},
     "output_type": "execute_result"
    }
   ],
   "source": [
    "restituire_divisori(6)  # 1, 2, 5, 10"
   ]
  },
  {
   "cell_type": "code",
   "execution_count": 6,
   "metadata": {},
   "outputs": [],
   "source": [
    "#\n",
    "def restituisci_divisori_primi(n: int) -> list:\n",
    "    \n",
    "    # 1. Dammi tutti i divisori\n",
    "    tutti_divisori = restituire_divisori(n=n)\n",
    "    \n",
    "    # 2. Verifico se sono primi\n",
    "    divisori_primi = []\n",
    "    \n",
    "    # SPEED 2: devo iterare con la lista nell'ordine inverso\n",
    "    # SPEED 3: una volta che ho ottenuto il numero mi devo fermare.\n",
    "    for div in tutti_divisori:\n",
    "        if is_prime(n=div) == True:\n",
    "            divisori_primi.append(div)\n",
    "            \n",
    "            \n",
    "    return divisori_primi\n"
   ]
  },
  {
   "cell_type": "code",
   "execution_count": 16,
   "metadata": {},
   "outputs": [
    {
     "data": {
      "text/plain": [
       "[1, 2, 4, 5, 10, 20, 25, 50, 100]"
      ]
     },
     "execution_count": 16,
     "metadata": {},
     "output_type": "execute_result"
    }
   ],
   "source": [
    "restituire_divisori(n=100)"
   ]
  },
  {
   "cell_type": "code",
   "execution_count": 26,
   "metadata": {},
   "outputs": [],
   "source": [
    "# Advent of Code: CAPTCHA\n",
    "# Verifica matching dei numeri successivi, \n",
    "# Somma dei numeri che matchano\n",
    "\n",
    "# [1, 1, 2, 2] produces a sum of 3 (1 + 2) because the first digit (1) matches the second digit and the third digit (2) matches the fourth digit.\n",
    "# 1111 produces 4 because each digit (all 1) matches the next.\n",
    "# 1234 produces 0 because no digit matches the next.\n",
    "# 91212129 produces 9 because the only digit that matches the next one is the last digit, 9.\n",
    "\n",
    "def advent_1(seq: list) -> int:\n",
    "    \"\"\"...\"\"\"\n",
    "    \n",
    "    somma = 0 \n",
    "    \n",
    "    # Faremo cose con questa somma... \n",
    "    # Gli aggiungeremo elementi se troviamo dei match\n",
    "    # 1233421 --- 3 + 1 = 4\n",
    "    # Controlla se la prima cifra matcha con la seconda\n",
    "    # Se è uguale, aumentiamo la somma, altrimenti nulla....\n",
    "    # Controlla se la seconda cifra matcha con la terza....\n",
    "    # ...\n",
    "    \n",
    "    # Piccolo trucco per definire meglio le variabili\n",
    "    for i in range(len(seq) - 1):\n",
    "        cifra = seq[i]\n",
    "        cifra_successiva = seq[i + 1]\n",
    "        \n",
    "        if cifra == cifra_successiva:\n",
    "            somma = somma + cifra\n",
    "    \n",
    "    # Piccola osservazione: circolarità\n",
    "    if seq[0] == seq[-1]:\n",
    "        somma = somma + seq[0]\n",
    "\n",
    "    return somma\n",
    "    "
   ]
  },
  {
   "cell_type": "code",
   "execution_count": 32,
   "metadata": {},
   "outputs": [],
   "source": [
    "input_advent_1 = [3, 1, 8, 1, 3, 1, 7, 4, 3, 4, 9, 2, 3, 5, 9, 7, 2, 1, 5, 9, 8, 1, 1, 8, 6, 9, 7, 5, 5, 1, 6, 6, 3, 4, 3, 8, 8, 2, 9, 5, 8, 3, 7, 6, 4, 7, 4, 2, 7, 8, 4, 3, 7, 6, 8, 1, 6, 3, 2, 4, 9, 5, 2, 2, 2, 4, 9, 9, 2, 1, 1, 4, 8, 8, 6, 4, 9, 5, 4, 3, 7, 5, 5, 6, 5, 5, 1, 3, 8, 8, 4, 2, 5, 5, 3, 8, 6, 7, 2, 4, 6, 1, 3, 1, 2, 4, 5, 4, 6, 2, 8, 8, 1, 7, 5, 6, 8, 6, 2, 7, 3, 6, 9, 2, 2, 9, 2, 5, 7, 5, 2, 6, 4, 7, 3, 4, 1, 6, 7, 3, 3, 4, 2, 7, 5, 6, 5, 1, 4, 8, 5, 6, 6, 6, 3, 9, 7, 9, 4, 9, 6, 7, 4, 7, 1, 5, 8, 2, 4, 1, 7, 9, 2, 8, 5, 7, 6, 2, 5, 4, 7, 1, 3, 2, 3, 5, 3, 5, 1, 8, 3, 2, 2, 2, 4, 9, 7, 9, 4, 9, 7, 5, 1, 6, 4, 4, 4, 8, 8, 2, 7, 7, 3, 1, 7, 1, 7, 3, 4, 9, 6, 1, 2, 4, 4, 7, 3, 8, 9, 3, 4, 5, 2, 4, 2, 5, 1, 1, 8, 1, 3, 3, 6, 4, 5, 9, 8, 4, 4, 8, 8, 7, 5, 9, 1, 2, 8, 8, 9, 7, 1, 4, 6, 4, 9, 8, 8, 3, 1, 3, 7, 3, 7, 9, 5, 7, 2, 1, 6, 6, 1, 6, 9, 6, 4, 9, 2, 6, 2, 2, 2, 7, 6, 2, 8, 2, 8, 8, 1, 2, 1, 8, 3, 7, 1, 2, 7, 3, 9, 7, 3, 5, 3, 8, 1, 6, 3, 7, 7, 9, 7, 8, 2, 4, 3, 5, 2, 1, 1, 4, 9, 1, 1, 9, 6, 6, 1, 6, 3, 7, 5, 1, 3, 5, 4, 7, 2, 5, 1, 7, 9, 3, 5, 4, 8, 1, 9, 6, 4, 4, 3, 9, 9, 5, 6, 8, 4, 4, 5, 3, 6, 1, 3, 6, 8, 2, 3, 7, 5, 7, 7, 6, 4, 4, 9, 4, 9, 6, 7, 2, 9, 7, 2, 5, 1, 5, 4, 5, 3, 8, 9, 4, 6, 4, 4, 7, 2, 7, 9, 4, 4, 7, 4, 4, 4, 7, 9, 4, 1, 5, 6, 4, 7, 7, 8, 7, 3, 3, 9, 2, 6, 5, 3, 2, 7, 4, 1, 7, 5, 2, 7, 5, 7, 8, 6, 5, 2, 4, 3, 9, 4, 6, 9, 7, 6, 2, 6, 6, 4, 2, 6, 5, 4, 8, 3, 4, 1, 8, 8, 9, 8, 7, 3, 5, 1, 4, 3, 8, 3, 4, 6, 4, 1, 4, 2, 6, 5, 9, 4, 2, 5, 1, 2, 2, 7, 8, 6, 6, 6, 7, 3, 9, 9, 1, 4, 3, 3, 3, 5, 7, 7, 2, 1, 7, 4, 9, 7, 3, 1, 2, 8, 3, 8, 3, 8, 6, 9, 8, 9, 3, 3, 2, 5, 9, 7, 7, 3, 1, 9, 6, 5, 1, 8, 3, 9, 5, 1, 6, 6, 9, 4, 2, 9, 5, 5, 3, 4, 1, 4, 6, 6, 6, 8, 7, 2, 8, 8, 2, 2, 3, 9, 3, 4, 5, 2, 6, 2, 6, 3, 2, 1, 8, 9, 2, 3, 5, 7, 1, 9, 2, 5, 7, 4, 4, 4, 4, 8, 5, 6, 2, 6, 4, 7, 2, 1, 5, 8, 5, 3, 6, 5, 1, 6, 4, 9, 4, 5, 6, 4, 7, 2, 5, 4, 6, 4, 5, 2, 6, 4, 6, 9, 3, 9, 5, 7, 8, 9, 8, 3, 7, 3, 2, 1, 4, 8, 9, 7, 8, 4, 8, 4, 2, 4, 9, 6, 6, 2, 6, 6, 5, 8, 2, 9, 9, 1, 2, 7, 2, 4, 9, 6, 7, 7, 1, 1, 5, 9, 5, 8, 3, 7, 1, 5, 4, 5, 6, 7, 1, 4, 6, 4, 5, 5, 8, 5, 5, 7, 6, 6, 4, 1, 4, 5, 8, 3, 5, 8, 3, 2, 6, 5, 2, 1, 8, 5, 8, 5, 1, 8, 3, 1, 9, 3, 1, 5, 2, 3, 3, 8, 5, 7, 4, 7, 3, 6, 9, 5, 7, 1, 2, 2, 3, 8, 3, 2, 3, 7, 8, 7, 2, 5, 4, 5, 5, 6, 5, 9, 7, 5, 6, 6, 4, 6, 1, 1, 8, 8, 4, 5, 2, 2, 7, 9, 8, 5, 3, 7, 6, 6, 1, 8, 4, 3, 3, 3, 6, 9, 6, 3, 4, 4, 3, 9, 5, 8, 1, 8, 6, 1, 5, 2, 1, 5, 8, 4, 6, 3, 4, 8, 5, 8, 6, 5, 4, 1, 1, 6, 4, 1, 9, 4, 6, 2, 4, 3, 7, 1, 3, 5, 3, 5, 5, 6, 8, 1, 2, 5, 4, 8, 9, 4, 5, 4, 4, 7, 4, 3, 2, 7, 8, 7, 7, 9, 5, 4, 8, 9, 4, 4, 3, 3, 1, 2, 9, 4, 1, 6, 8, 7, 2, 2, 1, 3, 1, 4, 4, 3, 2, 6, 9, 4, 1, 1, 5, 8, 4, 7, 8, 6, 3, 1, 2, 9, 8, 2, 6, 5, 3, 2, 6, 2, 8, 2, 2, 8, 3, 8, 6, 8, 9, 4, 6, 8, 3, 3, 9, 2, 3, 5, 2, 7, 9, 9, 5, 1, 4, 9, 4, 2, 6, 6, 5, 3, 9, 6, 2, 7, 3, 7, 2, 6, 8, 2, 1, 9, 3, 6, 3, 4, 6, 6, 6, 3, 4, 8, 5, 4, 9, 9, 1, 5, 9, 1, 4, 1, 3, 6, 8, 4, 4, 3, 7, 8, 2, 4, 7, 5, 7, 1, 4, 6, 7, 9, 9, 5, 3, 2, 1, 3, 3, 8, 8, 3, 7, 5, 9, 3, 9, 5, 1, 9, 7, 1, 1, 5, 9, 1, 2, 6, 2, 4, 8, 9, 8, 6, 9, 3, 2, 6, 1, 4, 5, 4, 7, 6, 9, 5, 8, 3, 7, 8, 4, 6, 4, 6, 5, 2, 4, 5, 1, 4, 4, 1, 4, 3, 4, 8, 4, 6, 3, 8, 2, 4, 7, 4, 5, 7, 8, 5, 3, 5, 4, 6, 8, 4, 3, 3, 5, 1, 4, 1, 2, 1, 3, 3, 6, 8, 4, 4, 7, 2, 7, 9, 8, 8, 1, 2, 8, 9, 9, 8, 5, 4, 3, 9, 7, 5, 1, 4, 7, 6, 4, 9, 8, 2, 3, 2, 1, 5, 3, 3, 2, 9, 2, 9, 6, 2, 3, 5, 7, 4, 2, 3, 1, 7, 3, 8, 4, 4, 2, 2, 8, 1, 1, 6, 1, 2, 9, 4, 8, 3, 8, 4, 9, 9, 4, 4, 1, 7, 9, 9, 9, 9, 6, 8, 5, 7, 7, 4, 6, 5, 4, 9, 4, 4, 1, 1, 4, 2, 8, 5, 9, 1, 9, 9, 7, 9, 9, 1, 2, 5, 5, 9, 5, 7, 6, 1, 7, 2, 4, 7, 8, 2, 2, 2, 5, 4, 5, 2, 3, 9, 4, 5, 9, 3, 5, 1, 4, 3, 8, 8, 5, 7, 1, 1, 8, 7, 2, 7, 9, 2, 6, 6, 2, 9, 1, 3, 6, 4, 2, 7, 8, 1, 8, 4, 7, 6, 1, 8, 3, 3, 3, 2, 4, 4, 7, 6, 8, 3, 8, 9, 3, 9, 8, 9, 8, 2, 5, 8, 2, 2, 5, 7, 4, 8, 5, 6, 2, 3, 4, 5, 8, 5, 3, 6, 3, 3, 3, 6, 4, 3, 1, 4, 9, 2, 3, 1, 8, 6, 6, 8, 5, 5, 3, 4, 8, 6, 4, 1, 7, 8, 6, 6, 5, 2, 1, 4, 1, 3, 5, 6, 3, 1, 4, 9, 4, 8, 7, 6, 4, 7, 4, 1, 8, 6, 8, 3, 3, 3, 9, 2, 9, 2, 9, 1, 2, 4, 3, 3, 7, 1, 6, 1, 2, 2, 2, 9, 5, 9, 4, 5, 9, 1, 1, 7, 5, 5, 4, 2, 3, 8, 4, 2, 9, 2, 1, 6, 9, 1, 6, 5, 3, 2, 1, 7, 5, 2, 4, 7, 3, 2, 6, 3, 9, 1, 3, 2, 1, 5, 2, 5, 8, 3, 2, 3, 6, 2, 2, 7, 4, 6, 8, 3, 7, 6, 3, 4, 8, 8, 3, 4, 7, 6, 5, 4, 4, 9, 7, 8, 8, 9, 2, 6, 1, 5, 4, 3, 9, 5, 9, 5, 9, 1, 2, 1, 2, 5, 3, 9, 8, 5, 1, 8, 3, 5, 3, 5, 4, 3, 3, 5, 5, 9, 8, 8, 4, 4, 6, 6, 9, 6, 1, 8, 3, 9, 1, 8, 7, 6, 6, 2, 3, 6, 3, 8, 1, 3, 7, 9, 2, 6, 8, 9, 3, 5, 8, 2, 1, 3, 1, 9, 4, 5, 3, 6, 1, 2, 6, 4, 8, 4, 1, 7, 3, 3, 3, 4, 1, 2, 4, 7, 6, 4, 6, 1, 2, 5, 2, 7, 8, 4, 8, 9, 9, 9, 5, 8, 3, 8, 3, 6, 9, 1, 2, 7, 5, 8, 2, 4, 3, 8, 4, 1, 9, 8, 8, 9, 9, 2, 2, 3, 6, 5, 5, 9, 6, 5, 5, 4, 2, 3, 7, 1, 5, 3, 4, 1, 2, 3, 9, 4, 4, 9, 4, 9, 3, 2, 5, 8, 2, 4, 2, 4, 2, 2, 2, 4, 7, 9, 7, 9, 8, 3, 8, 2, 9, 3, 2, 3, 3, 5, 2, 3, 9, 2, 7, 4, 2, 9, 7, 6, 6, 3, 3, 6, 5, 1, 6, 4, 9, 1, 2, 9, 5, 3, 3, 6, 4, 7, 7, 7, 8, 7, 6, 1, 8, 7, 5, 2, 2, 3, 2, 4, 9, 9, 1, 8, 3, 7, 7, 7, 5, 4, 9, 2, 6, 2, 1, 6, 7, 5, 9, 5, 3, 3, 9, 7, 8, 4, 3, 8, 3, 3, 2, 4, 7, 5, 2, 5, 5, 9, 9, 7, 7, 1, 9, 7, 4, 5, 5, 5, 5, 4, 5, 3, 4, 8, 3, 8, 8, 8, 7, 1, 5, 7, 8, 3, 4, 7, 3, 3, 2, 4, 5, 6, 5, 8, 6, 9, 4, 9, 2, 8, 3, 6, 5, 7, 6, 1, 3, 8, 4, 1, 4, 1, 4, 5, 7, 6, 9, 7, 6, 5, 4, 2, 3, 4, 3, 9, 3, 4, 9, 1, 1, 4, 2, 4, 7, 1, 6, 6, 1, 3, 4, 7, 9, 2, 4, 9, 8, 9, 3, 1, 1, 3, 9, 6, 1, 9, 2, 5, 7, 1, 3, 3, 1, 7, 6, 4, 4, 3, 4, 9, 9, 4, 6, 4, 4, 4, 2, 7, 1, 9, 5, 9, 3, 7, 5, 9, 8, 1, 1, 5, 8, 4, 4, 5, 1, 5, 1, 6, 5, 9, 4, 3, 1, 8, 4, 4, 1, 4, 2, 2, 4, 2, 5, 4, 7, 1, 9, 1, 1, 8, 1, 9, 4, 4, 3, 9, 5, 8, 9, 7, 9, 6, 3, 1, 4, 6, 9, 4, 7, 9, 3, 5, 4, 6, 3, 7, 1, 8, 1, 4, 5, 1, 6, 9, 2, 6, 6, 1, 2, 9, 1, 1, 8, 4, 1, 3, 5, 2, 3, 5, 4, 1, 2, 2, 2, 4, 4, 4, 9, 9, 7, 6, 7, 8, 7, 2, 6, 6, 4, 4, 6, 1, 5, 1, 8, 5, 3, 2, 4, 4, 6, 1, 2, 9, 3, 2, 2, 8, 1, 2, 4, 4, 5, 6, 1, 1, 8, 8, 5, 3, 8, 8, 5, 5, 5, 2, 2, 7, 9, 8, 4, 9, 9, 1, 7, 3, 4, 2, 4, 7, 4, 7, 9, 2, 9, 8, 4, 4, 2, 5, 6, 2, 9, 2, 4, 8, 4, 9, 2, 8, 4, 7, 8, 2, 7, 6, 5, 3, 1, 3, 3, 5, 8, 3, 2, 1, 5, 5, 3, 9, 3, 2, 5, 8, 6, 6, 8, 8, 1, 6, 6, 2, 1, 5, 9, 4, 2, 1, 9, 8, 7, 3, 1, 5, 1, 8, 6, 9, 1, 4, 7, 6, 9, 4, 7, 8, 9, 4, 7, 3, 8, 9, 1, 8, 8, 3, 8, 2, 3, 8, 3, 5, 4, 6, 8, 8, 1, 6, 2, 2, 2, 4, 6, 7, 9, 3, 7, 8, 1, 8, 4, 6, 2, 5, 4, 2, 5, 3, 7, 5, 9, 7, 1, 4, 5, 7, 3, 3, 5, 4, 5, 4, 4, 9, 9, 7, 8, 5, 3, 1, 5, 3, 7, 9, 8, 8, 6, 2, 4, 3, 6, 8, 8, 7, 8, 8, 9, 3, 1, 8, 6, 4, 6, 6, 4, 3, 3, 5, 9, 5, 5, 5, 6, 6, 3, 1, 3, 5, 4, 7, 6, 2, 6, 1, 8, 6, 3]"
   ]
  },
  {
   "cell_type": "code",
   "execution_count": 33,
   "metadata": {},
   "outputs": [
    {
     "data": {
      "text/plain": [
       "1203"
      ]
     },
     "execution_count": 33,
     "metadata": {},
     "output_type": "execute_result"
    }
   ],
   "source": [
    "advent_1(seq=input_advent_1)"
   ]
  },
  {
   "cell_type": "code",
   "execution_count": 20,
   "metadata": {},
   "outputs": [
    {
     "data": {
      "text/plain": [
       "4"
      ]
     },
     "execution_count": 20,
     "metadata": {},
     "output_type": "execute_result"
    }
   ],
   "source": [
    "len(seq)"
   ]
  },
  {
   "cell_type": "code",
   "execution_count": 42,
   "metadata": {},
   "outputs": [],
   "source": [
    "# Oggetto: PARADIGMA programmazione a oggetti \n",
    "# Classe... programmazione a oggettiù\n",
    "\n",
    "class Rettangolo:\n",
    "    \n",
    "    # Vi ricorda la definizione di una funzione\n",
    "    # Nelle classi queste funzioni si chiamano \"metodi\"\n",
    "    def __init__(self, base, altezza):\n",
    "        self.base = base\n",
    "        self.altezza = altezza\n",
    "    \n",
    "    # \n",
    "    def area(self):\n",
    "        print(\"L'area è: \", self.base * self.altezza)\n",
    "        return self.base * self.altezza\n",
    "    \n",
    "    #\n",
    "    def perimetro(self):\n",
    "        print(\"Il perimetro è: \", 2 * (self.base + self.altezza))\n",
    "        return 2 * (self.base + self.altezza)\n",
    "        \n",
    "    #\n",
    "    def diagonale(self):\n",
    "        print(\"La diagonale misura: \", (self.base ** 2 + self.altezza ** 2) ** 0.5)\n",
    "        return (self.base ** 2 + self.altezza ** 2) ** 0.5\n",
    "        "
   ]
  },
  {
   "cell_type": "code",
   "execution_count": 43,
   "metadata": {},
   "outputs": [],
   "source": [
    "il_mio_primo_rettangolo = Rettangolo(base=10, altezza=3)"
   ]
  },
  {
   "cell_type": "code",
   "execution_count": 44,
   "metadata": {},
   "outputs": [
    {
     "name": "stdout",
     "output_type": "stream",
     "text": [
      "L'area è:  30\n"
     ]
    },
    {
     "data": {
      "text/plain": [
       "30"
      ]
     },
     "execution_count": 44,
     "metadata": {},
     "output_type": "execute_result"
    }
   ],
   "source": [
    "il_mio_primo_rettangolo.area()"
   ]
  },
  {
   "cell_type": "code",
   "execution_count": 45,
   "metadata": {},
   "outputs": [
    {
     "name": "stdout",
     "output_type": "stream",
     "text": [
      "Il perimetro è:  26\n"
     ]
    },
    {
     "data": {
      "text/plain": [
       "26"
      ]
     },
     "execution_count": 45,
     "metadata": {},
     "output_type": "execute_result"
    }
   ],
   "source": [
    "il_mio_primo_rettangolo.perimetro()"
   ]
  },
  {
   "cell_type": "code",
   "execution_count": 47,
   "metadata": {},
   "outputs": [
    {
     "name": "stdout",
     "output_type": "stream",
     "text": [
      "La diagonale misura:  10.44030650891055\n"
     ]
    }
   ],
   "source": [
    "diag_1 = il_mio_primo_rettangolo.diagonale()"
   ]
  },
  {
   "cell_type": "code",
   "execution_count": 48,
   "metadata": {},
   "outputs": [
    {
     "data": {
      "text/plain": [
       "10.44030650891055"
      ]
     },
     "execution_count": 48,
     "metadata": {},
     "output_type": "execute_result"
    }
   ],
   "source": [
    "diag_1"
   ]
  },
  {
   "cell_type": "code",
   "execution_count": 49,
   "metadata": {},
   "outputs": [],
   "source": [
    "secondo_rettangolo = Rettangolo(base=32, altezza=1)"
   ]
  },
  {
   "cell_type": "code",
   "execution_count": 50,
   "metadata": {},
   "outputs": [
    {
     "name": "stdout",
     "output_type": "stream",
     "text": [
      "L'area è:  32\n"
     ]
    },
    {
     "data": {
      "text/plain": [
       "32"
      ]
     },
     "execution_count": 50,
     "metadata": {},
     "output_type": "execute_result"
    }
   ],
   "source": [
    "secondo_rettangolo.area()"
   ]
  },
  {
   "cell_type": "code",
   "execution_count": 51,
   "metadata": {},
   "outputs": [
    {
     "name": "stdout",
     "output_type": "stream",
     "text": [
      "Il perimetro è:  66\n"
     ]
    },
    {
     "data": {
      "text/plain": [
       "66"
      ]
     },
     "execution_count": 51,
     "metadata": {},
     "output_type": "execute_result"
    }
   ],
   "source": [
    "secondo_rettangolo.perimetro()"
   ]
  },
  {
   "cell_type": "code",
   "execution_count": 54,
   "metadata": {},
   "outputs": [],
   "source": [
    "# Ereditarietà\n",
    "class Quadrato(Rettangolo):\n",
    "    \n",
    "    def __init__(self, lato):\n",
    "        super().__init__(lato, lato)\n",
    "        \n"
   ]
  },
  {
   "cell_type": "code",
   "execution_count": 55,
   "metadata": {},
   "outputs": [],
   "source": [
    "q1 = Quadrato(lato=4) "
   ]
  },
  {
   "cell_type": "code",
   "execution_count": 56,
   "metadata": {},
   "outputs": [
    {
     "name": "stdout",
     "output_type": "stream",
     "text": [
      "L'area è:  16\n"
     ]
    },
    {
     "data": {
      "text/plain": [
       "16"
      ]
     },
     "execution_count": 56,
     "metadata": {},
     "output_type": "execute_result"
    }
   ],
   "source": [
    "q1.area()"
   ]
  },
  {
   "cell_type": "code",
   "execution_count": 57,
   "metadata": {},
   "outputs": [
    {
     "name": "stdout",
     "output_type": "stream",
     "text": [
      "Il perimetro è:  16\n"
     ]
    },
    {
     "data": {
      "text/plain": [
       "16"
      ]
     },
     "execution_count": 57,
     "metadata": {},
     "output_type": "execute_result"
    }
   ],
   "source": [
    "q1.perimetro()"
   ]
  },
  {
   "cell_type": "code",
   "execution_count": 58,
   "metadata": {},
   "outputs": [
    {
     "name": "stdout",
     "output_type": "stream",
     "text": [
      "La diagonale misura:  5.656854249492381\n"
     ]
    },
    {
     "data": {
      "text/plain": [
       "5.656854249492381"
      ]
     },
     "execution_count": 58,
     "metadata": {},
     "output_type": "execute_result"
    }
   ],
   "source": [
    "q1.diagonale()"
   ]
  },
  {
   "cell_type": "code",
   "execution_count": null,
   "metadata": {},
   "outputs": [],
   "source": [
    "pip install pygame"
   ]
  },
  {
   "cell_type": "code",
   "execution_count": 61,
   "metadata": {},
   "outputs": [],
   "source": [
    "# Il problema del click \n",
    "# 50, 20, 10, 5, 2, 1\n",
    "\n",
    "# 20: 1 banconota da 20\n",
    "# 22: ...\n",
    "# 36: [20, 10, 5, 1]\n",
    "\n",
    "def decomponi(n: int) -> list:\n",
    "    \n",
    "    dec = []\n",
    "    tagli = [50, 20, 10, 5, 2, 1]\n",
    "    \n",
    "    # Sicuramente partiamo dalle banconote minori o uguali della cifra stabilita\n",
    "    for t in tagli:\n",
    "        \n",
    "        # finché vale la condizione per cui posso togliere banconote\n",
    "        # i.e. le banconote del mio taglio sono più piccole della rimanenza\n",
    "        while n - t >= 0:\n",
    "            \n",
    "            # Passaggio intermedio\n",
    "            # Alla mia decomposizione ci aggiungo una banconota\n",
    "            dec.append(t)\n",
    "            n = n - t\n",
    "                    \n",
    "    return dec\n",
    "\n",
    "\n"
   ]
  },
  {
   "cell_type": "code",
   "execution_count": 65,
   "metadata": {},
   "outputs": [
    {
     "data": {
      "text/plain": [
       "[50, 20, 10, 5, 2, 1]"
      ]
     },
     "execution_count": 65,
     "metadata": {},
     "output_type": "execute_result"
    }
   ],
   "source": [
    "decomponi(n=88)"
   ]
  },
  {
   "cell_type": "code",
   "execution_count": null,
   "metadata": {},
   "outputs": [],
   "source": []
  }
 ],
 "metadata": {
  "kernelspec": {
   "display_name": "Python 3",
   "language": "python",
   "name": "python3"
  },
  "language_info": {
   "codemirror_mode": {
    "name": "ipython",
    "version": 3
   },
   "file_extension": ".py",
   "mimetype": "text/x-python",
   "name": "python",
   "nbconvert_exporter": "python",
   "pygments_lexer": "ipython3",
   "version": "3.8.3"
  }
 },
 "nbformat": 4,
 "nbformat_minor": 4
}
