{
 "cells": [
  {
   "cell_type": "markdown",
   "metadata": {},
   "source": [
    "# Appunti \n",
    "Il cancelletto vuol dire commento: vuol dire \n",
    "che il pc non eseguirà quel pezzo di codice\n",
    "\n",
    "Si chiama variabile perché varia, anche perché *posso modificarla in \n",
    "corso*\n",
    "\n",
    "1. Variabile **Stringa** \"Gianfranco\" -- stringa di caratteri\n",
    "\n",
    "2. Variabile **numerica** 3 -- è proprio un numero... ci posso eseguire dei conti\n",
    "\n",
    "3. Variabile **booleana** -- Vero o falso... ci ritorneremo "
   ]
  },
  {
   "cell_type": "code",
   "execution_count": 15,
   "metadata": {},
   "outputs": [
    {
     "name": "stdout",
     "output_type": "stream",
     "text": [
      "Ciao, come ti chiami? ugo\n",
      "Quanti anni hai? 55\n",
      "\n",
      "\n",
      "Ciao ugo\n",
      "Caspita! Hai già 55 anni\n",
      "Ehi! Guarda che l'anno prossimo compirai 56 anni\n"
     ]
    }
   ],
   "source": [
    "# input\n",
    "nome = input(\"Ciao, come ti chiami? \")  # variabile stringa\n",
    "eta = int(input(\"Quanti anni hai? \"))        # variabile numerica\n",
    "\n",
    "# Int() 3, 4, float()\n",
    "\n",
    "print('\\n')\n",
    "print(\"Ciao\", nome)\n",
    "print(\"Caspita! Hai già\", eta, \"anni\")\n",
    "\n",
    "# alla variabile \"eta\" assegna il valore della variabile \"eta\" + 1\n",
    "eta = eta + 1  # SDP nr 1: \"=\" vuol dire \"assegna\" \n",
    "print(\"Ehi! Guarda che l'anno prossimo compirai\", eta, \"anni\")\n"
   ]
  },
  {
   "cell_type": "code",
   "execution_count": 24,
   "metadata": {},
   "outputs": [
    {
     "name": "stdout",
     "output_type": "stream",
     "text": [
      "112\n",
      "Cristiano Leonardi\n"
     ]
    }
   ],
   "source": [
    "nome = \"Cristiano\" # variabile Stringa\n",
    "cognome = \"Leonardi\"\n",
    "eta_fake = 111\n",
    "\n",
    "print(eta_fake + 1)              # + vuol dire \"addizione\" se faccio aritmetica\n",
    "print(nome + \" \" + cognome )     # + vuol dire \"concatena\" se uso stringhe\n"
   ]
  },
  {
   "cell_type": "code",
   "execution_count": 47,
   "metadata": {},
   "outputs": [
    {
     "name": "stdout",
     "output_type": "stream",
     "text": [
      "Somma:  12\n",
      "Sottrazione:  8\n",
      "Moltiplicazione:  20\n",
      "Divisione Esatta:  5.0\n",
      "Potenza:  100\n",
      "Resto della divisione:  0\n",
      "Radice quadrata:  3.1622776601683795\n"
     ]
    }
   ],
   "source": [
    "# Posso fare aritmetica con le variabili numeriche\n",
    "a = 10\n",
    "b = 2\n",
    "print(\"Somma: \", a + b)\n",
    "print(\"Sottrazione: \", a - b)\n",
    "print(\"Moltiplicazione: \", a * b)\n",
    "print(\"Divisione Esatta: \", a / b)\n",
    "print(\"Potenza: \", a ** b)\n",
    "print(\"Resto della divisione: \", a % b)\n",
    "print(\"Radice quadrata: \", a ** 0.5 )  # radice quadrata = elevare a 1/2\n",
    "\n"
   ]
  },
  {
   "cell_type": "code",
   "execution_count": 46,
   "metadata": {},
   "outputs": [
    {
     "name": "stdout",
     "output_type": "stream",
     "text": [
      "4.0\n"
     ]
    }
   ],
   "source": [
    "# Aritmetica del pc si dice \"a precisione\" finita\n",
    "print(3 + 1.)"
   ]
  },
  {
   "cell_type": "markdown",
   "metadata": {},
   "source": [
    "### Convertitore di temperatura\n",
    "* Come input ho la temperatura in gradi Celsius\n",
    "* Come output restituisco la temperatura convertita in gradi Fahrenheit <br /> \n",
    "*Hint: temperatura = float(input(\"Qual è....\"))*\n",
    "\n",
    "### Distanza tra due punti\n",
    "* Come input prendo le coordinate di due punti \n",
    "* Come output restituisco la distanza\n",
    "\n",
    "*Hint: print(\"Radice quadrata: \", a ** 0.5 )*\n"
   ]
  },
  {
   "cell_type": "code",
   "execution_count": 52,
   "metadata": {},
   "outputs": [
    {
     "name": "stdout",
     "output_type": "stream",
     "text": [
      "1.857142857142857206298458550008945167064666748047\n"
     ]
    }
   ],
   "source": [
    "print(\"{0:.48f}\".format(13/7))"
   ]
  },
  {
   "cell_type": "code",
   "execution_count": 53,
   "metadata": {},
   "outputs": [
    {
     "name": "stdout",
     "output_type": "stream",
     "text": [
      "0.19999999999999996\n"
     ]
    }
   ],
   "source": [
    "# Extra: Floating point error in python \n",
    "# https://www.geeksforgeeks.org/floating-point-error-in-python/\n",
    "print(1.2 - 1.0)"
   ]
  },
  {
   "cell_type": "code",
   "execution_count": null,
   "metadata": {},
   "outputs": [],
   "source": [
    "# Esempio Mirko\n",
    "\n",
    "# Voglio che temperatura_celsius sia numerica\n",
    "temperatura_celsius = float(input(\"Inserisci la temperatura in Celsius \"))\n",
    "\n",
    "temperatura_farhenheit = temperatura_celsius * 1.8 + 32\n",
    "print(\"La temperatura inserita è: \", temperatura_celsius, \n",
    "      \"\\nIn fahrenheit diventa: \", temperatura_farhenheit)\n",
    "\n"
   ]
  },
  {
   "cell_type": "markdown",
   "metadata": {},
   "source": [
    "## Tutto quello che mi serve per scrivere ogni tipo di codice (google, facebook, excel...)\n",
    "\n",
    "\n",
    "1. Ciclo if.. then... else\n",
    "2. Ciclo for \n",
    "\n",
    "*3. Ciclo while*\n",
    "\n",
    "* Devo stare attento ai due punti finali \n",
    "* Devo stare attento a \"tabbare\" le istruzioni corrette\n"
   ]
  },
  {
   "cell_type": "code",
   "execution_count": 76,
   "metadata": {},
   "outputs": [
    {
     "ename": "SyntaxError",
     "evalue": "invalid syntax (<ipython-input-76-889f9bca7297>, line 13)",
     "output_type": "error",
     "traceback": [
      "\u001b[1;36m  File \u001b[1;32m\"<ipython-input-76-889f9bca7297>\"\u001b[1;36m, line \u001b[1;32m13\u001b[0m\n\u001b[1;33m    else:\u001b[0m\n\u001b[1;37m    ^\u001b[0m\n\u001b[1;31mSyntaxError\u001b[0m\u001b[1;31m:\u001b[0m invalid syntax\n"
     ]
    }
   ],
   "source": [
    "# Prendiamo in input un numero intero: \n",
    "# 1. Se è pari scrivo \"questo numero è divisibile per 2\"\n",
    "# 2. Se è dispari scrivo \"questo numero NON è divisibile per 2\"\n",
    "\n",
    "# Ricevo in input un numero\n",
    "mio_numero = int(input(\"Inserire un numero intero \"))\n",
    "\n",
    "# Devo valutare se è pari o dispari\n",
    "# \"Se mio_numero è pari allora fai questo\"\n",
    "if mio_numero % 2 == 0:\n",
    "    print(\"Questo numero è divisibile per 2\")\n",
    "else:\n",
    "    print(\"Questo numero *NON* è divisibile per 2\") \n",
    "    print(\"Ehi!\")\n",
    "    \n",
    "print(\"Ahi\")\n",
    "print(\"Ohi\")\n",
    "\n"
   ]
  },
  {
   "cell_type": "code",
   "execution_count": 80,
   "metadata": {},
   "outputs": [
    {
     "name": "stdout",
     "output_type": "stream",
     "text": [
      "Buongiorno  Mario\n",
      "Buongiorno  Ugo\n",
      "Buongiorno  Francesca\n",
      "Buongiorno  Persona\n"
     ]
    }
   ],
   "source": [
    "# Ciclo for \n",
    "\n",
    "# for i in range(100):\n",
    "#     print(i)\n",
    "\n",
    "for amico in [\"Mario\", \"Ugo\", \"Francesca\", \"Persona\"]:  # [] lista di oggetti \n",
    "    print(\"Buongiorno \", amico)\n"
   ]
  },
  {
   "cell_type": "markdown",
   "metadata": {},
   "source": [
    "Esercizio: fizzbuzz: \n",
    "Print the numbers 1 to 20, except that if the number is divisible by 3 instead print \"fizz\"; if the number is divisible by 5 instead print \"buzz\"; and if the number is divisible by 15 instead print \"fizzbuzz"
   ]
  },
  {
   "cell_type": "code",
   "execution_count": 90,
   "metadata": {},
   "outputs": [
    {
     "name": "stdout",
     "output_type": "stream",
     "text": [
      "1\n",
      "2\n",
      "fizz\n",
      "4\n",
      "buzz\n",
      "fizz\n",
      "7\n",
      "8\n",
      "fizz\n",
      "buzz\n",
      "11\n",
      "fizz\n",
      "13\n",
      "14\n",
      "fizzbuzz\n",
      "16\n",
      "17\n",
      "fizz\n",
      "19\n",
      "buzz\n",
      "fizz\n",
      "22\n",
      "23\n",
      "fizz\n",
      "buzz\n",
      "26\n",
      "fizz\n",
      "28\n",
      "29\n",
      "fizzbuzz\n",
      "31\n",
      "32\n",
      "fizz\n",
      "34\n",
      "buzz\n",
      "fizz\n",
      "37\n",
      "38\n",
      "fizz\n",
      "buzz\n",
      "41\n",
      "fizz\n",
      "43\n",
      "44\n",
      "fizzbuzz\n",
      "46\n",
      "47\n",
      "fizz\n",
      "49\n",
      "buzz\n",
      "fizz\n",
      "52\n",
      "53\n",
      "fizz\n",
      "buzz\n",
      "56\n",
      "fizz\n",
      "58\n",
      "59\n",
      "fizzbuzz\n",
      "61\n",
      "62\n",
      "fizz\n",
      "64\n",
      "buzz\n",
      "fizz\n",
      "67\n",
      "68\n",
      "fizz\n",
      "buzz\n",
      "71\n",
      "fizz\n",
      "73\n",
      "74\n",
      "fizzbuzz\n",
      "76\n",
      "77\n",
      "fizz\n",
      "79\n",
      "buzz\n",
      "fizz\n",
      "82\n",
      "83\n",
      "fizz\n",
      "buzz\n",
      "86\n",
      "fizz\n",
      "88\n",
      "89\n",
      "fizzbuzz\n",
      "91\n",
      "92\n",
      "fizz\n",
      "94\n",
      "buzz\n",
      "fizz\n",
      "97\n",
      "98\n",
      "fizz\n",
      "buzz\n"
     ]
    }
   ],
   "source": [
    "# Voglio printare tutti i numeri fino a 20\n",
    "for numero in range(1, 101):  #\n",
    "    \n",
    "    # se il numero è divisibile per 3 printo \"fizz\"\n",
    "    if numero % 15 == 0:\n",
    "        print(\"fizzbuzz\")\n",
    "    \n",
    "    elif numero % 3 == 0:  # elif devo aggiungere una condizione \n",
    "        print(\"fizz\")\n",
    "    \n",
    "    elif numero % 5 == 0:\n",
    "        print(\"buzz\")\n",
    " \n",
    "    else:                  # else si realizza se non si realizzano le precedenti\n",
    "        print(numero)\n",
    "        "
   ]
  },
  {
   "cell_type": "code",
   "execution_count": null,
   "metadata": {},
   "outputs": [],
   "source": []
  }
 ],
 "metadata": {
  "kernelspec": {
   "display_name": "Python 3",
   "language": "python",
   "name": "python3"
  },
  "language_info": {
   "codemirror_mode": {
    "name": "ipython",
    "version": 3
   },
   "file_extension": ".py",
   "mimetype": "text/x-python",
   "name": "python",
   "nbconvert_exporter": "python",
   "pygments_lexer": "ipython3",
   "version": "3.8.3"
  }
 },
 "nbformat": 4,
 "nbformat_minor": 4
}
