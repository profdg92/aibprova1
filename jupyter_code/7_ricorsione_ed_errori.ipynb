{
 "cells": [
  {
   "cell_type": "code",
   "execution_count": 1,
   "metadata": {},
   "outputs": [],
   "source": [
    "# Riassunto della puntata precedente\n",
    "# - Ricorsione\n",
    "# - Un pò di sicurezza informatica..."
   ]
  },
  {
   "cell_type": "code",
   "execution_count": 5,
   "metadata": {},
   "outputs": [],
   "source": [
    "# Fattoriale\n",
    "# 3! = 3x2x1\n",
    "# 5! = 5x4x3x2x1\n",
    "# Osservazione: 7! = 7x6!... n! = n x (n-1)!\n",
    "\n",
    "def calcola_fattoriale(n: int) -> int: \n",
    "    return 1 if n == 1 else n * calcola_fattoriale(n - 1)\n",
    "\n",
    "# Fibonacci\n",
    "# Fn = fn-1 + fn-2\n"
   ]
  },
  {
   "cell_type": "code",
   "execution_count": 8,
   "metadata": {},
   "outputs": [
    {
     "data": {
      "text/plain": [
       "720"
      ]
     },
     "execution_count": 8,
     "metadata": {},
     "output_type": "execute_result"
    }
   ],
   "source": [
    "calcola_fattoriale(6)"
   ]
  },
  {
   "cell_type": "code",
   "execution_count": 9,
   "metadata": {},
   "outputs": [
    {
     "name": "stdout",
     "output_type": "stream",
     "text": [
      "The Zen of Python, by Tim Peters\n",
      "\n",
      "Beautiful is better than ugly.\n",
      "Explicit is better than implicit.\n",
      "Simple is better than complex.\n",
      "Complex is better than complicated.\n",
      "Flat is better than nested.\n",
      "Sparse is better than dense.\n",
      "Readability counts.\n",
      "Special cases aren't special enough to break the rules.\n",
      "Although practicality beats purity.\n",
      "Errors should never pass silently.\n",
      "Unless explicitly silenced.\n",
      "In the face of ambiguity, refuse the temptation to guess.\n",
      "There should be one-- and preferably only one --obvious way to do it.\n",
      "Although that way may not be obvious at first unless you're Dutch.\n",
      "Now is better than never.\n",
      "Although never is often better than *right* now.\n",
      "If the implementation is hard to explain, it's a bad idea.\n",
      "If the implementation is easy to explain, it may be a good idea.\n",
      "Namespaces are one honking great idea -- let's do more of those!\n"
     ]
    }
   ],
   "source": [
    "import this"
   ]
  },
  {
   "cell_type": "code",
   "execution_count": 10,
   "metadata": {},
   "outputs": [],
   "source": [
    "# Errori ne esistono di due tipologie:\n",
    "# Errori di sintassi\n",
    "# Errori logici "
   ]
  },
  {
   "cell_type": "code",
   "execution_count": 16,
   "metadata": {},
   "outputs": [
    {
     "name": "stdout",
     "output_type": "stream",
     "text": [
      "Hello, possible pirate! What's the password?Arrr!\n",
      "Go away, pirate.\n"
     ]
    }
   ],
   "source": [
    "greeting = input(\"Hello, possible pirate! What's the password?\")\n",
    "if greeting in [\"Arrr!\"]:\n",
    "\tprint(\"Go away, pirate.\")\n",
    "else:\n",
    "    print(\"Greetings, hater of pirates!\")"
   ]
  },
  {
   "cell_type": "code",
   "execution_count": 21,
   "metadata": {},
   "outputs": [
    {
     "ename": "SyntaxError",
     "evalue": "Missing parentheses in call to 'print'. Did you mean print(\"%s\" % authors + \" died in \" + \"%d.\" % Date)? (<ipython-input-21-d4a1a12053be>, line 9)",
     "output_type": "error",
     "traceback": [
      "\u001b[1;36m  File \u001b[1;32m\"<ipython-input-21-d4a1a12053be>\"\u001b[1;36m, line \u001b[1;32m9\u001b[0m\n\u001b[1;33m    print \"%s\" % authors + \" died in \" + \"%d.\" % Date\u001b[0m\n\u001b[1;37m          ^\u001b[0m\n\u001b[1;31mSyntaxError\u001b[0m\u001b[1;31m:\u001b[0m Missing parentheses in call to 'print'. Did you mean print(\"%s\" % authors + \" died in \" + \"%d.\" % Date)?\n"
     ]
    }
   ],
   "source": [
    "authors = {\n",
    "           \"Charles Dickens\": \"1870\",\n",
    "           \"William Thackeray\": \"1863\",\n",
    "           \"Anthony Trollope\": \"1882\",\n",
    "           \"Gerard Manley Hopkins\": \"1889\"\n",
    "          }\n",
    "\n",
    "for author, date in authors.items():\n",
    "    print(\"%s\" % authors + \" died in \" + \"%d.\" % Date)\n"
   ]
  },
  {
   "cell_type": "code",
   "execution_count": 37,
   "metadata": {},
   "outputs": [
    {
     "name": "stdout",
     "output_type": "stream",
     "text": [
      "Greetings! What is your year of origin? 1920\n",
      "That's totally the present!\n"
     ]
    }
   ],
   "source": [
    "year = int(input(\"Greetings! What is your year of origin? \"))\n",
    "\n",
    "if year <= 1900:\n",
    "    print (\"Woah, that's the past!\")\n",
    "elif 1900 < year <= 1950:\n",
    "    print (\"That's totally the present!\")\n",
    "elif year > 1950 and year < 2020:\n",
    "    print (\"wow you are a boomer\")\n",
    "else:\n",
    "    print (\"Far out, that's the future!!\")\n",
    "    "
   ]
  },
  {
   "cell_type": "code",
   "execution_count": 40,
   "metadata": {},
   "outputs": [
    {
     "name": "stdout",
     "output_type": "stream",
     "text": [
      "Enter a number: 3\n",
      "Enter a number: 1\n",
      "The average of the two numbers you have entered is: 2.0\n"
     ]
    }
   ],
   "source": [
    "x = float(input('Enter a number: '))\n",
    "y = float(input('Enter a number: '))\n",
    "\n",
    "z = (x+y)/2\n",
    "\n",
    "print('The average of the two numbers you have entered is:', z)\n"
   ]
  },
  {
   "cell_type": "code",
   "execution_count": 52,
   "metadata": {},
   "outputs": [],
   "source": [
    "# Implementiamo un risolutore di un sistema di equazioni\n",
    "# Dati i coefficienti di un sistema di equazioni, restituire la soluzione\n",
    "\n",
    "#  _\n",
    "# |  ax  + by = c\n",
    "# |  dx + ey = f\n",
    "#  _\n",
    "\n",
    "#\n",
    "\n",
    "def solve_system(a: float, b: float, c: float,\n",
    "                 d: float, e: float, f: float) -> (float, float):\n",
    "\n",
    "\n",
    "    # Determinante\n",
    "    delta = a * e - b * d\n",
    "    delta_x = c * e - f * b\n",
    "    delta_y = a * f - d * c\n",
    "    \n",
    "    # Se delta = 0 e dx e dy sono 0: indeterminato\n",
    "    # Se delta = 0 e dx e dy non sono 0: impossibile\n",
    "    try: \n",
    "        x = delta_x / delta\n",
    "        y = delta_y/ delta\n",
    "        return x,y\n",
    "    \n",
    "    except ZeroDivisionError:\n",
    "        \n",
    "        if delta_x == 0 and delta_y == 0:\n",
    "              return print(\"Il sistema è indeterminato\")\n",
    "    \n",
    "        else:\n",
    "              return print(\"Il sistema è impossibile\")\n",
    "        \n",
    "    \n",
    "        "
   ]
  },
  {
   "cell_type": "code",
   "execution_count": 53,
   "metadata": {},
   "outputs": [
    {
     "name": "stdout",
     "output_type": "stream",
     "text": [
      "Il sistema è indeterminato\n"
     ]
    }
   ],
   "source": [
    "solve_system(1, 1, 1, 1, 1, 1)"
   ]
  },
  {
   "cell_type": "code",
   "execution_count": null,
   "metadata": {},
   "outputs": [],
   "source": []
  }
 ],
 "metadata": {
  "kernelspec": {
   "display_name": "Python 3",
   "language": "python",
   "name": "python3"
  },
  "language_info": {
   "codemirror_mode": {
    "name": "ipython",
    "version": 3
   },
   "file_extension": ".py",
   "mimetype": "text/x-python",
   "name": "python",
   "nbconvert_exporter": "python",
   "pygments_lexer": "ipython3",
   "version": "3.8.3"
  }
 },
 "nbformat": 4,
 "nbformat_minor": 4
}
