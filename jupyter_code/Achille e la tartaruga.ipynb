{
 "cells": [
  {
   "cell_type": "code",
   "execution_count": 16,
   "metadata": {},
   "outputs": [],
   "source": [
    "import time\n",
    "\n",
    "# Scrivere una funzione che calcoli la somma dei numeri da 1 a n\n",
    "# n=2: 1+2 = 3\n",
    "# n=3: 1+2+3 = 6...\n",
    "# n=10: 1+2+3+4+5+6+7+8+9+10 = 55\n",
    "\n",
    "# Voglio una funzione: in input: basta solo il più grande (n),\n",
    "# output: la mia somma\n",
    "\n",
    "def somma_fino_a_n(n: int) -> int:\n",
    "    \"\"\"Questa funzione somma i numeri da 1 a n\"\"\"\n",
    "    \n",
    "    #\n",
    "    somma = 0\n",
    "    \n",
    "    # Attenzione alle stranezze del python: \n",
    "    # range(n) arriva fino a n-1, perché parte dallo 0\n",
    "    # ad esempio, range(4) = [0, 1, 2, 3]!\n",
    "    # Per questo aggiungo n + 1 invece che n.\n",
    "    for addendo in range(1, n + 1):\n",
    "        somma = somma + addendo\n",
    "                \n",
    "    return somma\n",
    "    "
   ]
  },
  {
   "cell_type": "code",
   "execution_count": 17,
   "metadata": {},
   "outputs": [
    {
     "name": "stdout",
     "output_type": "stream",
     "text": [
      "6\n",
      "Tempo impiegato (s):  0.0\n"
     ]
    }
   ],
   "source": [
    "start = time.time()  # Sto richiamando la funzione che mi misura il tempo\n",
    "\n",
    "print(somma_fino_a_n(n=3))\n",
    "\n",
    "end = time.time()\n",
    "print(\"Tempo impiegato (s): \", end-start)"
   ]
  },
  {
   "cell_type": "code",
   "execution_count": 18,
   "metadata": {},
   "outputs": [
    {
     "name": "stdout",
     "output_type": "stream",
     "text": [
      "55\n",
      "Tempo impiegato (s):  0.0\n"
     ]
    }
   ],
   "source": [
    "start = time.time()  # Sto richiamando la funzione che mi misura il tempo\n",
    "\n",
    "print(somma_fino_a_n(n=10))\n",
    "\n",
    "end = time.time()\n",
    "print(\"Tempo impiegato (s): \", end-start)"
   ]
  },
  {
   "cell_type": "code",
   "execution_count": 23,
   "metadata": {},
   "outputs": [
    {
     "name": "stdout",
     "output_type": "stream",
     "text": [
      "50000005000000\n",
      "Tempo impiegato (s):  0.8038642406463623\n"
     ]
    }
   ],
   "source": [
    "start = time.time()\n",
    "\n",
    "print(somma_fino_a_n(n=10_000_000))\n",
    "\n",
    "end = time.time()\n",
    "print(\"Tempo impiegato (s): \", end-start)"
   ]
  },
  {
   "cell_type": "code",
   "execution_count": 25,
   "metadata": {},
   "outputs": [],
   "source": [
    "# Facciamo la somma in maniera più rapida!\n",
    "\n",
    "def RAPID_somma_fino_a_n(n: int) -> int:\n",
    "    \"\"\"...\"\"\"                                      \n",
    "    return sum(range(1, n + 1))"
   ]
  },
  {
   "cell_type": "code",
   "execution_count": 26,
   "metadata": {},
   "outputs": [
    {
     "name": "stdout",
     "output_type": "stream",
     "text": [
      "50000005000000\n",
      "Tempo impiegato (s):  0.3618037700653076\n"
     ]
    }
   ],
   "source": [
    "start = time.time()\n",
    "\n",
    "print(RAPID_somma_fino_a_n(n=10000000))\n",
    "\n",
    "end = time.time()\n",
    "print(\"Tempo impiegato (s): \", end-start)"
   ]
  },
  {
   "cell_type": "code",
   "execution_count": 28,
   "metadata": {},
   "outputs": [],
   "source": [
    "# Facciamo la somma in maniera più rapida!\n",
    "# 1+2+3 = 6 = 3 x 4 : 2\n",
    "# 1+2+3+4+5 = 15 = 5 x 6:2\n",
    "\n",
    "def SUPER_MEGA_RAPID_somma_fino_a_n(n: int) -> int:\n",
    "    \"\"\"Questa funzione usa un barbatrucco\"\"\"\n",
    "    return n * (n + 1) / 2"
   ]
  },
  {
   "cell_type": "code",
   "execution_count": 29,
   "metadata": {},
   "outputs": [
    {
     "name": "stdout",
     "output_type": "stream",
     "text": [
      "50000005000000.0\n",
      "Tempo impiegato (s):  0.0009987354278564453\n"
     ]
    }
   ],
   "source": [
    "start = time.time()\n",
    "\n",
    "print(SUPER_MEGA_RAPID_somma_fino_a_n(n=10_000_000))\n",
    "\n",
    "end = time.time()\n",
    "print(\"Tempo impiegato (s): \", end-start)"
   ]
  },
  {
   "cell_type": "code",
   "execution_count": 31,
   "metadata": {},
   "outputs": [],
   "source": [
    "# Provare a scrivere una funzione che dica se un numero è primo\n",
    "def is_prime(n: int) -> bool:\n",
    "    \"\"\"Dato un numero la mia funzione mi dice se è vero o falso\n",
    "    che questo numero è primo\"\"\"\n",
    "        \n",
    "    # Il mio numero deve essere diverso da 1\n",
    "    for divisore in range(2, n):\n",
    "        if n % divisore == 0:\n",
    "            return False\n",
    "    \n",
    "    if n == 1:\n",
    "        return False\n",
    "    else:\n",
    "        return True\n"
   ]
  },
  {
   "cell_type": "code",
   "execution_count": 39,
   "metadata": {},
   "outputs": [
    {
     "data": {
      "text/plain": [
       "False"
      ]
     },
     "execution_count": 39,
     "metadata": {},
     "output_type": "execute_result"
    }
   ],
   "source": [
    "is_prime(n=102)"
   ]
  },
  {
   "cell_type": "code",
   "execution_count": 41,
   "metadata": {},
   "outputs": [],
   "source": [
    "# Scrivere la lista dei primi n numeri primi\n",
    "def list_me_primes(n: int) -> list:\n",
    "    \"\"\"...\"\"\"\n",
    "        \n",
    "    lista_dei_primi = []\n",
    "        \n",
    "    for possibile_primo in range(2, n + 1): \n",
    "        if is_prime(n=possibile_primo) == True:\n",
    "            lista_dei_primi.append(possibile_primo)\n",
    "        \n",
    "    return lista_dei_primi\n"
   ]
  },
  {
   "cell_type": "code",
   "execution_count": 51,
   "metadata": {},
   "outputs": [],
   "source": [
    "def RAPID_list_me_primes(n: int) -> list:\n",
    "    \"\"\" Returns  a list of primes < n \"\"\"\n",
    "    \n",
    "    sieve = [True] * n\n",
    "    for i in range(3,int(n**0.5)+1,2):\n",
    "        if sieve[i]:\n",
    "            sieve[i*i::2*i]=[False]*((n-i*i-1)//(2*i)+1)\n",
    "            \n",
    "    return [2] + [i for i in range(3,n,2) if sieve[i]]"
   ]
  },
  {
   "cell_type": "code",
   "execution_count": 53,
   "metadata": {},
   "outputs": [
    {
     "data": {
      "text/plain": [
       "104743"
      ]
     },
     "execution_count": 53,
     "metadata": {},
     "output_type": "execute_result"
    }
   ],
   "source": [
    "l = RAPID_list_me_primes(n=1_000_000)\n",
    "l[10000]"
   ]
  },
  {
   "cell_type": "code",
   "execution_count": 2,
   "metadata": {},
   "outputs": [
    {
     "ename": "TclError",
     "evalue": "invalid command name \".!canvas\"",
     "output_type": "error",
     "traceback": [
      "\u001b[1;31m---------------------------------------------------------------------------\u001b[0m",
      "\u001b[1;31mTclError\u001b[0m                                  Traceback (most recent call last)",
      "\u001b[1;32m<ipython-input-2-e379ac7bde5f>\u001b[0m in \u001b[0;36m<module>\u001b[1;34m\u001b[0m\n\u001b[0;32m     11\u001b[0m \u001b[1;33m\u001b[0m\u001b[0m\n\u001b[0;32m     12\u001b[0m \u001b[1;32mfor\u001b[0m \u001b[0ml\u001b[0m \u001b[1;32min\u001b[0m \u001b[0mrange\u001b[0m\u001b[1;33m(\u001b[0m\u001b[1;36m1\u001b[0m\u001b[1;33m,\u001b[0m \u001b[0mnr_lati\u001b[0m \u001b[1;33m+\u001b[0m \u001b[1;36m1\u001b[0m\u001b[1;33m)\u001b[0m\u001b[1;33m:\u001b[0m\u001b[1;33m\u001b[0m\u001b[1;33m\u001b[0m\u001b[0m\n\u001b[1;32m---> 13\u001b[1;33m     \u001b[0mt\u001b[0m\u001b[1;33m.\u001b[0m\u001b[0mforward\u001b[0m\u001b[1;33m(\u001b[0m\u001b[1;36m30\u001b[0m\u001b[1;33m)\u001b[0m\u001b[1;33m\u001b[0m\u001b[1;33m\u001b[0m\u001b[0m\n\u001b[0m\u001b[0;32m     14\u001b[0m     \u001b[0mt\u001b[0m\u001b[1;33m.\u001b[0m\u001b[0mright\u001b[0m\u001b[1;33m(\u001b[0m\u001b[1;36m180\u001b[0m \u001b[1;33m-\u001b[0m \u001b[0mangolo\u001b[0m\u001b[1;33m)\u001b[0m\u001b[1;33m\u001b[0m\u001b[1;33m\u001b[0m\u001b[0m\n\u001b[0;32m     15\u001b[0m \u001b[1;33m\u001b[0m\u001b[0m\n",
      "\u001b[1;32m~\\anaconda3\\lib\\turtle.py\u001b[0m in \u001b[0;36mforward\u001b[1;34m(self, distance)\u001b[0m\n\u001b[0;32m   1635\u001b[0m         \u001b[1;33m(\u001b[0m\u001b[1;33m-\u001b[0m\u001b[1;36m50.00\u001b[0m\u001b[1;33m,\u001b[0m\u001b[1;36m0.00\u001b[0m\u001b[1;33m)\u001b[0m\u001b[1;33m\u001b[0m\u001b[1;33m\u001b[0m\u001b[0m\n\u001b[0;32m   1636\u001b[0m         \"\"\"\n\u001b[1;32m-> 1637\u001b[1;33m         \u001b[0mself\u001b[0m\u001b[1;33m.\u001b[0m\u001b[0m_go\u001b[0m\u001b[1;33m(\u001b[0m\u001b[0mdistance\u001b[0m\u001b[1;33m)\u001b[0m\u001b[1;33m\u001b[0m\u001b[1;33m\u001b[0m\u001b[0m\n\u001b[0m\u001b[0;32m   1638\u001b[0m \u001b[1;33m\u001b[0m\u001b[0m\n\u001b[0;32m   1639\u001b[0m     \u001b[1;32mdef\u001b[0m \u001b[0mback\u001b[0m\u001b[1;33m(\u001b[0m\u001b[0mself\u001b[0m\u001b[1;33m,\u001b[0m \u001b[0mdistance\u001b[0m\u001b[1;33m)\u001b[0m\u001b[1;33m:\u001b[0m\u001b[1;33m\u001b[0m\u001b[1;33m\u001b[0m\u001b[0m\n",
      "\u001b[1;32m~\\anaconda3\\lib\\turtle.py\u001b[0m in \u001b[0;36m_go\u001b[1;34m(self, distance)\u001b[0m\n\u001b[0;32m   1603\u001b[0m         \u001b[1;34m\"\"\"move turtle forward by specified distance\"\"\"\u001b[0m\u001b[1;33m\u001b[0m\u001b[1;33m\u001b[0m\u001b[0m\n\u001b[0;32m   1604\u001b[0m         \u001b[0mende\u001b[0m \u001b[1;33m=\u001b[0m \u001b[0mself\u001b[0m\u001b[1;33m.\u001b[0m\u001b[0m_position\u001b[0m \u001b[1;33m+\u001b[0m \u001b[0mself\u001b[0m\u001b[1;33m.\u001b[0m\u001b[0m_orient\u001b[0m \u001b[1;33m*\u001b[0m \u001b[0mdistance\u001b[0m\u001b[1;33m\u001b[0m\u001b[1;33m\u001b[0m\u001b[0m\n\u001b[1;32m-> 1605\u001b[1;33m         \u001b[0mself\u001b[0m\u001b[1;33m.\u001b[0m\u001b[0m_goto\u001b[0m\u001b[1;33m(\u001b[0m\u001b[0mende\u001b[0m\u001b[1;33m)\u001b[0m\u001b[1;33m\u001b[0m\u001b[1;33m\u001b[0m\u001b[0m\n\u001b[0m\u001b[0;32m   1606\u001b[0m \u001b[1;33m\u001b[0m\u001b[0m\n\u001b[0;32m   1607\u001b[0m     \u001b[1;32mdef\u001b[0m \u001b[0m_rotate\u001b[0m\u001b[1;33m(\u001b[0m\u001b[0mself\u001b[0m\u001b[1;33m,\u001b[0m \u001b[0mangle\u001b[0m\u001b[1;33m)\u001b[0m\u001b[1;33m:\u001b[0m\u001b[1;33m\u001b[0m\u001b[1;33m\u001b[0m\u001b[0m\n",
      "\u001b[1;32m~\\anaconda3\\lib\\turtle.py\u001b[0m in \u001b[0;36m_goto\u001b[1;34m(self, end)\u001b[0m\n\u001b[0;32m   3179\u001b[0m                 \u001b[0mself\u001b[0m\u001b[1;33m.\u001b[0m\u001b[0m_update\u001b[0m\u001b[1;33m(\u001b[0m\u001b[1;33m)\u001b[0m\u001b[1;33m\u001b[0m\u001b[1;33m\u001b[0m\u001b[0m\n\u001b[0;32m   3180\u001b[0m             \u001b[1;32mif\u001b[0m \u001b[0mself\u001b[0m\u001b[1;33m.\u001b[0m\u001b[0m_drawing\u001b[0m\u001b[1;33m:\u001b[0m\u001b[1;33m\u001b[0m\u001b[1;33m\u001b[0m\u001b[0m\n\u001b[1;32m-> 3181\u001b[1;33m                 screen._drawline(self.drawingLineItem, ((0, 0), (0, 0)),\n\u001b[0m\u001b[0;32m   3182\u001b[0m                                                fill=\"\", width=self._pensize)\n\u001b[0;32m   3183\u001b[0m         \u001b[1;31m# Turtle now at end,\u001b[0m\u001b[1;33m\u001b[0m\u001b[1;33m\u001b[0m\u001b[1;33m\u001b[0m\u001b[0m\n",
      "\u001b[1;32m~\\anaconda3\\lib\\turtle.py\u001b[0m in \u001b[0;36m_drawline\u001b[1;34m(self, lineitem, coordlist, fill, width, top)\u001b[0m\n\u001b[0;32m    543\u001b[0m                 \u001b[0mcl\u001b[0m\u001b[1;33m.\u001b[0m\u001b[0mappend\u001b[0m\u001b[1;33m(\u001b[0m\u001b[0mx\u001b[0m \u001b[1;33m*\u001b[0m \u001b[0mself\u001b[0m\u001b[1;33m.\u001b[0m\u001b[0mxscale\u001b[0m\u001b[1;33m)\u001b[0m\u001b[1;33m\u001b[0m\u001b[1;33m\u001b[0m\u001b[0m\n\u001b[0;32m    544\u001b[0m                 \u001b[0mcl\u001b[0m\u001b[1;33m.\u001b[0m\u001b[0mappend\u001b[0m\u001b[1;33m(\u001b[0m\u001b[1;33m-\u001b[0m\u001b[0my\u001b[0m \u001b[1;33m*\u001b[0m \u001b[0mself\u001b[0m\u001b[1;33m.\u001b[0m\u001b[0myscale\u001b[0m\u001b[1;33m)\u001b[0m\u001b[1;33m\u001b[0m\u001b[1;33m\u001b[0m\u001b[0m\n\u001b[1;32m--> 545\u001b[1;33m             \u001b[0mself\u001b[0m\u001b[1;33m.\u001b[0m\u001b[0mcv\u001b[0m\u001b[1;33m.\u001b[0m\u001b[0mcoords\u001b[0m\u001b[1;33m(\u001b[0m\u001b[0mlineitem\u001b[0m\u001b[1;33m,\u001b[0m \u001b[1;33m*\u001b[0m\u001b[0mcl\u001b[0m\u001b[1;33m)\u001b[0m\u001b[1;33m\u001b[0m\u001b[1;33m\u001b[0m\u001b[0m\n\u001b[0m\u001b[0;32m    546\u001b[0m         \u001b[1;32mif\u001b[0m \u001b[0mfill\u001b[0m \u001b[1;32mis\u001b[0m \u001b[1;32mnot\u001b[0m \u001b[1;32mNone\u001b[0m\u001b[1;33m:\u001b[0m\u001b[1;33m\u001b[0m\u001b[1;33m\u001b[0m\u001b[0m\n\u001b[0;32m    547\u001b[0m             \u001b[0mself\u001b[0m\u001b[1;33m.\u001b[0m\u001b[0mcv\u001b[0m\u001b[1;33m.\u001b[0m\u001b[0mitemconfigure\u001b[0m\u001b[1;33m(\u001b[0m\u001b[0mlineitem\u001b[0m\u001b[1;33m,\u001b[0m \u001b[0mfill\u001b[0m\u001b[1;33m=\u001b[0m\u001b[0mfill\u001b[0m\u001b[1;33m)\u001b[0m\u001b[1;33m\u001b[0m\u001b[1;33m\u001b[0m\u001b[0m\n",
      "\u001b[1;32m<string>\u001b[0m in \u001b[0;36mcoords\u001b[1;34m(self, *args, **kw)\u001b[0m\n",
      "\u001b[1;32m~\\anaconda3\\lib\\tkinter\\__init__.py\u001b[0m in \u001b[0;36mcoords\u001b[1;34m(self, *args)\u001b[0m\n\u001b[0;32m   2759\u001b[0m         return [self.tk.getdouble(x) for x in\n\u001b[0;32m   2760\u001b[0m                            self.tk.splitlist(\n\u001b[1;32m-> 2761\u001b[1;33m                    self.tk.call((self._w, 'coords') + args))]\n\u001b[0m\u001b[0;32m   2762\u001b[0m \u001b[1;33m\u001b[0m\u001b[0m\n\u001b[0;32m   2763\u001b[0m     \u001b[1;32mdef\u001b[0m \u001b[0m_create\u001b[0m\u001b[1;33m(\u001b[0m\u001b[0mself\u001b[0m\u001b[1;33m,\u001b[0m \u001b[0mitemType\u001b[0m\u001b[1;33m,\u001b[0m \u001b[0margs\u001b[0m\u001b[1;33m,\u001b[0m \u001b[0mkw\u001b[0m\u001b[1;33m)\u001b[0m\u001b[1;33m:\u001b[0m \u001b[1;31m# Args: (val, val, ..., cnf={})\u001b[0m\u001b[1;33m\u001b[0m\u001b[1;33m\u001b[0m\u001b[0m\n",
      "\u001b[1;31mTclError\u001b[0m: invalid command name \".!canvas\""
     ]
    }
   ],
   "source": [
    "# Somma angoli interni: 180 x (Lati - 2) : Lati\n",
    "# Es: Lati = 4 ... 180 x 2: 4 = 360:4 = 90\n",
    "\n",
    "import turtle\n",
    "\n",
    "t = turtle.Turtle()\n",
    "\n",
    "nr_lati = 200\n",
    "\n",
    "angolo = 180 * (nr_lati - 2) / nr_lati\n",
    "\n",
    "for l in range(1, nr_lati + 1):\n",
    "    t.forward(30)\n",
    "    t.right(180 - angolo)\n",
    "\n",
    "\n"
   ]
  },
  {
   "cell_type": "code",
   "execution_count": 2,
   "metadata": {},
   "outputs": [],
   "source": [
    "import turtle\n",
    "\n",
    "t = turtle.Turtle()\n",
    "\n",
    "t.right(75)\n",
    "t.forward(100)\n",
    "\n",
    "for i in range(4):\n",
    "    t.right(144)\n",
    "    t.forward(100)\n",
    "\n",
    "\n",
    "turtle.done()"
   ]
  },
  {
   "cell_type": "code",
   "execution_count": 1,
   "metadata": {},
   "outputs": [],
   "source": [
    "import turtle\n",
    "from time import sleep\n",
    "\n",
    "# Part 1 : Initialize the module\n",
    "t = turtle.Turtle()\n",
    "t.speed(4)\n",
    "turtle.bgcolor(\"white\")\n",
    "t.color(\"white\")\n",
    "turtle.title('Netflix Logo')\n",
    "\n",
    "# Part 2 : Drawing the black background\n",
    "t.up()\n",
    "t.goto(-80,50)\n",
    "t.down()\n",
    "t.fillcolor(\"black\")\n",
    "t.begin_fill()\n",
    "\n",
    "t.forward(200)\n",
    "t.setheading(270)\n",
    "s = 360\n",
    "for i in range(9):\n",
    "    s = s - 10\n",
    "    t.setheading(s)\n",
    "    t.forward(10)\n",
    "    \n",
    "t.forward(180)\n",
    "s = 270\n",
    "for i in range(9):\n",
    "    s = s - 10\n",
    "    t.setheading(s)\n",
    "    t.forward(10)\n",
    "\n",
    "t.forward(200)\n",
    "s = 180\n",
    "for i in range(9):\n",
    "    s = s - 10\n",
    "    t.setheading(s)\n",
    "    t.forward(10)\n",
    "\n",
    "t.forward(180)\n",
    "s = 90\n",
    "for i in range(9):\n",
    "    s = s - 10\n",
    "    t.setheading(s)\n",
    "    t.forward(10)\n",
    "t.forward(30)    \n",
    "t.end_fill()\n",
    "\n",
    "# Part 3 : Drawing the N shape\n",
    "t.up()\n",
    "t.color(\"black\")\n",
    "t.setheading(270)\n",
    "t.forward(240)\n",
    "t.setheading(0)\n",
    "t.down()\n",
    "t.color(\"red\")\n",
    "t.fillcolor(\"#E50914\")\n",
    "t.begin_fill()\n",
    "t.forward(30)\n",
    "t.setheading(90)\n",
    "t.forward(180)\n",
    "t.setheading(180)\n",
    "t.forward(30)\n",
    "t.setheading(270)\n",
    "t.forward(180)\n",
    "t.end_fill()\n",
    "t.setheading(0)\n",
    "t.up()\n",
    "t.forward(75)\n",
    "t.down()\n",
    "t.color(\"red\")\n",
    "t.fillcolor(\"#E50914\")\n",
    "t.begin_fill()\n",
    "t.forward(30)\n",
    "t.setheading(90)\n",
    "t.forward(180)\n",
    "t.setheading(180)\n",
    "t.forward(30)\n",
    "t.setheading(270)\n",
    "t.forward(180)\n",
    "t.end_fill()\n",
    "t.color(\"red\")\n",
    "t.fillcolor(\"red\")\n",
    "t.begin_fill()\n",
    "t.setheading(113)\n",
    "t.forward(195)\n",
    "t.setheading(0)\n",
    "t.forward(31)\n",
    "t.setheading(293)\n",
    "t.forward(196)\n",
    "t.end_fill()\n",
    "t.hideturtle()\n",
    "sleep(10)"
   ]
  },
  {
   "cell_type": "code",
   "execution_count": 7,
   "metadata": {},
   "outputs": [
    {
     "name": "stdout",
     "output_type": "stream",
     "text": [
      "72\n"
     ]
    }
   ],
   "source": [
    "import random\n",
    "\n",
    "print(random.randint(10, 100))"
   ]
  },
  {
   "cell_type": "code",
   "execution_count": null,
   "metadata": {},
   "outputs": [],
   "source": []
  }
 ],
 "metadata": {
  "kernelspec": {
   "display_name": "Python 3",
   "language": "python",
   "name": "python3"
  },
  "language_info": {
   "codemirror_mode": {
    "name": "ipython",
    "version": 3
   },
   "file_extension": ".py",
   "mimetype": "text/x-python",
   "name": "python",
   "nbconvert_exporter": "python",
   "pygments_lexer": "ipython3",
   "version": "3.8.3"
  }
 },
 "nbformat": 4,
 "nbformat_minor": 4
}
