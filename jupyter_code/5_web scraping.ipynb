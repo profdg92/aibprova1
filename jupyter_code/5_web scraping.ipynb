{
 "cells": [
  {
   "cell_type": "code",
   "execution_count": null,
   "metadata": {},
   "outputs": [],
   "source": [
    "\n",
    "\"\"\"\n",
    "1st part: scraping Wikipedia\n",
    "- Ctrl + shift + C: evidenzia il contenuto\n",
    "\n",
    "Versione semplificata, con una richiesta più debole\n",
    "\n",
    "\"\"\"\n",
    "\n",
    "import bs4 \n",
    "import requests\n",
    "import time\n",
    "\n",
    "prefix = \"https://en.wikipedia.org\"\n",
    "PHILOSOPHY = \"https://en.wikipedia.org/wiki/Philosophy\"\n",
    "# link = \"https://en.wikipedia.org/wiki/Ethics\" # ok \n",
    "# link = \"https://en.wikipedia.org/wiki/Clock\"  # loop\n",
    "link = \"https://en.wikipedia.org/wiki/Quantum_mechanics\"\n",
    "# link = \"https://en.wikipedia.org/wiki/Reason\"  # Interessante per i loop e i miglioramenti \n",
    "# link = \"https://en.wikipedia.org/wiki/Ponkey_Crossing_Halt_railway_station\"\n",
    "\n",
    "while PHILOSOPHY not in ALL_links_wiki_LIST:  # PHILOSOPHY not in ALL_links_wiki_LIST\n",
    "\n",
    "    response = requests.get(link)\n",
    "    response.raise_for_status()\n",
    "    soup = bs4.BeautifulSoup(response.text, \"html.parser\")\n",
    "    pages_wiki = soup.find_all('p')\n",
    "\n",
    "    for page_wiki in pages_wiki:\n",
    "        \n",
    "        wiki_raw_links = page_wiki.find_all('a')\n",
    "        \n",
    "\n",
    "        ALL_links_wiki_LIST = []\n",
    "        for l in wiki_raw_links:\n",
    "            ALL_links_wiki_LIST.append(l.get('href'))\n",
    "        \n",
    "        ALL_links_wiki_LIST = [i for i in ALL_links_wiki_LIST if not '#' in i and '_language' not in i ]\n",
    "        if len(ALL_links_wiki_LIST) > 0:\n",
    "            \n",
    "            print(\"\\nLink:\")\n",
    "            print(*ALL_links_wiki_LIST[:5], sep='\\n')\n",
    "\n",
    "            link = prefix + ALL_links_wiki_LIST[0]\n",
    "            print(\"\\nAdesso clicco su: \", link)\n",
    "\n",
    "            time.sleep(5)\n",
    "            break\n",
    "    \n",
    "\n",
    "print(\"HURRA'!\")"
   ]
  }
 ],
 "metadata": {
  "kernelspec": {
   "display_name": "Python 3",
   "language": "python",
   "name": "python3"
  },
  "language_info": {
   "codemirror_mode": {
    "name": "ipython",
    "version": 3
   },
   "file_extension": ".py",
   "mimetype": "text/x-python",
   "name": "python",
   "nbconvert_exporter": "python",
   "pygments_lexer": "ipython3",
   "version": "3.8.3"
  }
 },
 "nbformat": 4,
 "nbformat_minor": 4
}
